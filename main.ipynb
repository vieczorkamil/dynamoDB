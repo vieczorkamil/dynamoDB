{
 "cells": [
  {
   "cell_type": "code",
   "execution_count": 74,
   "metadata": {},
   "outputs": [],
   "source": [
    "from boto3.dynamodb.conditions import Key, Attr\n",
    "from dotenv import load_dotenv\n",
    "import boto3\n",
    "import json\n",
    "import os"
   ]
  },
  {
   "attachments": {},
   "cell_type": "markdown",
   "metadata": {},
   "source": [
    "INFORMACJE UWIERZYTELNIANIA"
   ]
  },
  {
   "cell_type": "code",
   "execution_count": 82,
   "metadata": {},
   "outputs": [],
   "source": [
    "load_dotenv(f\".env\")\n",
    "\n",
    "TABLE_NAME = \"ue_dynamodb_warsztaty\"\n",
    "AWS_ACCESS_KEY = os.environ[\"AWS_ACCESS_KEY\"]\n",
    "AWS_SECRET_KEY = os.environ[\"AWS_SECRET_KEY\"]\n",
    "REGION = os.environ[\"REGION\"]"
   ]
  },
  {
   "attachments": {},
   "cell_type": "markdown",
   "metadata": {},
   "source": [
    "FUNKCJE POMOCNICZE"
   ]
  },
  {
   "cell_type": "code",
   "execution_count": 92,
   "metadata": {},
   "outputs": [],
   "source": [
    "def print_json(text: str) -> None:\n",
    "    print(json.dumps(text, indent=2))"
   ]
  },
  {
   "attachments": {},
   "cell_type": "markdown",
   "metadata": {},
   "source": [
    "NAWIĄZANIE POŁĄCZENIA"
   ]
  },
  {
   "cell_type": "code",
   "execution_count": 83,
   "metadata": {},
   "outputs": [],
   "source": [
    "# Utworzenie sesji\n",
    "session = boto3.Session(\n",
    "    aws_access_key_id=AWS_ACCESS_KEY,\n",
    "    aws_secret_access_key=AWS_SECRET_KEY,\n",
    "    region_name=REGION\n",
    ")\n",
    "# Utworzenie klienta\n",
    "client = session.resource('dynamodb')\n",
    "table = client.Table(TABLE_NAME)"
   ]
  },
  {
   "attachments": {},
   "cell_type": "markdown",
   "metadata": {},
   "source": [
    "POBIERANIE / ODCZYTYWANIE ZAWARTOŚCI"
   ]
  },
  {
   "cell_type": "code",
   "execution_count": 84,
   "metadata": {},
   "outputs": [],
   "source": [
    "# Pobranie zawartości tabeli\n",
    "response = table.scan()\n",
    "items = response['Items']"
   ]
  },
  {
   "cell_type": "code",
   "execution_count": 85,
   "metadata": {},
   "outputs": [
    {
     "name": "stdout",
     "output_type": "stream",
     "text": [
      "{'kraj': 'Polska', 'hobby': ['wędrówki', 'gotowanie'], 'imię': 'Piotr', 'sort_key': 'G', 'id': Decimal('7'), 'wiek': Decimal('45')}\n",
      "{'płeć': 'kobieta', 'imię': 'Olga', 'sort_key': 'H', 'id': Decimal('8'), 'email': 'olga@example.com', 'wiek': Decimal('27')}\n",
      "{'kraj': 'Niemcy', 'adres': {'miasto': 'Berlin', 'ulica': 'Niemiecka 456'}, 'imię': 'Zofia', 'sort_key': 'J', 'id': Decimal('10'), 'wiek': Decimal('29')}\n",
      "{'sort_key': 'C', 'id': Decimal('3'), 'zawód': 'Inżynier', 'wiek': Decimal('35'), 'imię': 'Paweł'}\n",
      "{'sort_key': 'B', 'kraj': 'Polska', 'id': Decimal('2'), 'wiek': Decimal('30'), 'imię': 'Alicja'}\n",
      "{'hobby': ['malarstwo', 'ogrodnictwo'], 'imię': 'Liliana', 'sort_key': 'N', 'id': Decimal('14'), 'wiek': Decimal('26'), 'edukacja': {'kierunek': 'Sztuki Piękne', 'stopień': 'Licencjat'}}\n",
      "{'miasto': 'Łódź', 'zainteresowania': ['podróże', 'fotografia'], 'imię': 'Emilia', 'sort_key': 'L', 'id': Decimal('12'), 'wiek': Decimal('31')}\n",
      "{'telefon': '+48123456789', 'imię': 'Adam', 'sort_key': 'I', 'języki': ['polski', 'angielski'], 'id': Decimal('9'), 'wiek': Decimal('33')}\n",
      "{'sort_key': 'D', 'id': Decimal('4'), 'wiek': Decimal('28'), 'adres': {'miasto': 'Kraków', 'województwo': 'Małopolskie', 'ulica': 'ul. Główna 123'}, 'imię': 'Ewa'}\n",
      "{'kraj': 'Australia', 'imię': 'Jakub', 'sort_key': 'M', 'id': Decimal('13'), 'email': 'jakub@example.com', 'wiek': Decimal('36')}\n",
      "{'imię': 'Anna', 'sort_key': 'F', 'stanowisko': 'Menadżer', 'id': Decimal('6'), 'wiek': Decimal('32'), 'dział': 'Sprzedaż'}\n",
      "{'sort_key': 'A', 'miasto': 'Warszawa', 'id': Decimal('1'), 'wiek': Decimal('25'), 'imię': 'Jan'}\n",
      "{'sort_key': 'E', 'id': Decimal('5'), 'wiek': Decimal('40'), 'zainteresowania': ['sport', 'muzyka', 'czytanie'], 'imię': 'Michał'}\n",
      "{'umiejętności': ['Python', 'Java', 'SQL'], 'zawód': 'Inżynier oprogramowania', 'imię': 'Mateusz', 'sort_key': 'O', 'id': Decimal('15'), 'wiek': Decimal('34')}\n",
      "{'zawód': 'Nauczyciel', 'imię': 'Kamil', 'przedmioty': ['Matematyka', 'Fizyka'], 'sort_key': 'K', 'id': Decimal('11'), 'wiek': Decimal('38')}\n"
     ]
    }
   ],
   "source": [
    "# Przetwarzanie pobranych elementów\n",
    "for item in items:\n",
    "    print(item)"
   ]
  },
  {
   "attachments": {},
   "cell_type": "markdown",
   "metadata": {},
   "source": [
    "EQ | NE | LE | LT | GE | GT | NOT_NULL | NULL | CONTAINS | NOT_CONTAINS | BEGINS_WITH | IN | BETWEEN"
   ]
  },
  {
   "cell_type": "code",
   "execution_count": 108,
   "metadata": {},
   "outputs": [
    {
     "name": "stdout",
     "output_type": "stream",
     "text": [
      "{'imię': 'Anna', 'sort_key': 'F', 'stanowisko': 'Menadżer', 'id': Decimal('6'), 'wiek': Decimal('32'), 'dział': 'Sprzedaż'}\n"
     ]
    }
   ],
   "source": [
    "# Definiowanie wyrażenia filtru\n",
    "# filter_expression = Key('id').eq(3) & Key('sort_key').eq('C')\n",
    "\n",
    "filter_expression = Attr('wiek').gt(20) & Attr('dział').begins_with('Sprz')\n",
    "\n",
    "# Wykonywanie operacji odczytu na tabeli z filtrem\n",
    "response = table.scan(FilterExpression=filter_expression)\n",
    "# Przetwarzanie pobranych elementów\n",
    "items = response['Items']\n",
    "\n",
    "for item in items:\n",
    "    print(item)"
   ]
  },
  {
   "attachments": {},
   "cell_type": "markdown",
   "metadata": {},
   "source": [
    "DODAWANIE WARTOŚCI"
   ]
  },
  {
   "cell_type": "code",
   "execution_count": 109,
   "metadata": {},
   "outputs": [
    {
     "name": "stdout",
     "output_type": "stream",
     "text": [
      "{\n",
      "  \"ResponseMetadata\": {\n",
      "    \"RequestId\": \"BDA8JHBM62MHL8U1479SQ2OMMFVV4KQNSO5AEMVJF66Q9ASUAAJG\",\n",
      "    \"HTTPStatusCode\": 200,\n",
      "    \"HTTPHeaders\": {\n",
      "      \"server\": \"Server\",\n",
      "      \"date\": \"Sat, 10 Jun 2023 06:50:40 GMT\",\n",
      "      \"content-type\": \"application/x-amz-json-1.0\",\n",
      "      \"content-length\": \"2\",\n",
      "      \"connection\": \"keep-alive\",\n",
      "      \"x-amzn-requestid\": \"BDA8JHBM62MHL8U1479SQ2OMMFVV4KQNSO5AEMVJF66Q9ASUAAJG\",\n",
      "      \"x-amz-crc32\": \"2745614147\"\n",
      "    },\n",
      "    \"RetryAttempts\": 0\n",
      "  }\n",
      "}\n"
     ]
    }
   ],
   "source": [
    "# Definiowanie nowego rekordu\n",
    "item = {\n",
    "    'id': 16,\n",
    "    'sort_key': 'A',\n",
    "    'imię': 'Jakub',\n",
    "    'adres': \n",
    "        {\n",
    "            'miasto': 'Katowice', \n",
    "            'województwo': 'Sląskie', \n",
    "            'ulica': 'Warszawska 15'\n",
    "        }\n",
    "}\n",
    "\n",
    "# Dodawanie rekordu do tabeli\n",
    "response = table.put_item(Item=item)\n",
    "print_json(response)"
   ]
  },
  {
   "attachments": {},
   "cell_type": "markdown",
   "metadata": {},
   "source": [
    "EDYCJA ISNIEJĄCEGO REKORDU"
   ]
  },
  {
   "cell_type": "code",
   "execution_count": 110,
   "metadata": {},
   "outputs": [
    {
     "name": "stdout",
     "output_type": "stream",
     "text": [
      "{\n",
      "  \"ResponseMetadata\": {\n",
      "    \"RequestId\": \"B0HPBB7KT13PCD2NA7E0NF03P3VV4KQNSO5AEMVJF66Q9ASUAAJG\",\n",
      "    \"HTTPStatusCode\": 200,\n",
      "    \"HTTPHeaders\": {\n",
      "      \"server\": \"Server\",\n",
      "      \"date\": \"Sat, 10 Jun 2023 06:56:44 GMT\",\n",
      "      \"content-type\": \"application/x-amz-json-1.0\",\n",
      "      \"content-length\": \"2\",\n",
      "      \"connection\": \"keep-alive\",\n",
      "      \"x-amzn-requestid\": \"B0HPBB7KT13PCD2NA7E0NF03P3VV4KQNSO5AEMVJF66Q9ASUAAJG\",\n",
      "      \"x-amz-crc32\": \"2745614147\"\n",
      "    },\n",
      "    \"RetryAttempts\": 0\n",
      "  }\n",
      "}\n"
     ]
    }
   ],
   "source": [
    "key = {\n",
    "    'id': 16,\n",
    "    'sort_key': 'A',\n",
    "}\n",
    "\n",
    "# Definiowanie wyrażenia aktualizacji\n",
    "update_expression = 'SET #attr1 = :val1, #attr2 = :val2'\n",
    "\n",
    "# Definiowanie nazw atrybutów\n",
    "expression_attribute_names = {\n",
    "    '#attr1': 'imię',\n",
    "    '#attr2': 'stanowisko'\n",
    "}\n",
    "\n",
    "# Definiowanie wartości dla wyrażenia aktualizacji\n",
    "expression_attribute_values = {\n",
    "    ':val1': 'Robert',\n",
    "    ':val2': 'Mechanik'\n",
    "}\n",
    "\n",
    "# Aktualizacja elementu w tabeli\n",
    "response = table.update_item(\n",
    "    Key=key,\n",
    "    UpdateExpression=update_expression,\n",
    "    ExpressionAttributeNames=expression_attribute_names,\n",
    "    ExpressionAttributeValues=expression_attribute_values,\n",
    ")\n",
    "\n",
    "# Wyświetlanie informacji o odpowiedzi\n",
    "print_json(response)"
   ]
  },
  {
   "attachments": {},
   "cell_type": "markdown",
   "metadata": {},
   "source": [
    "USUWANIE REKORDU"
   ]
  },
  {
   "cell_type": "code",
   "execution_count": 111,
   "metadata": {},
   "outputs": [
    {
     "name": "stdout",
     "output_type": "stream",
     "text": [
      "{\n",
      "  \"ResponseMetadata\": {\n",
      "    \"RequestId\": \"TDTGTN9MCL4S331N9RUCSPF64VVV4KQNSO5AEMVJF66Q9ASUAAJG\",\n",
      "    \"HTTPStatusCode\": 200,\n",
      "    \"HTTPHeaders\": {\n",
      "      \"server\": \"Server\",\n",
      "      \"date\": \"Sat, 10 Jun 2023 06:57:04 GMT\",\n",
      "      \"content-type\": \"application/x-amz-json-1.0\",\n",
      "      \"content-length\": \"2\",\n",
      "      \"connection\": \"keep-alive\",\n",
      "      \"x-amzn-requestid\": \"TDTGTN9MCL4S331N9RUCSPF64VVV4KQNSO5AEMVJF66Q9ASUAAJG\",\n",
      "      \"x-amz-crc32\": \"2745614147\"\n",
      "    },\n",
      "    \"RetryAttempts\": 0\n",
      "  }\n",
      "}\n"
     ]
    }
   ],
   "source": [
    "# Definiowanie klucza głównego rekordu do usunięcia\n",
    "key = {\n",
    "    'id': 16,\n",
    "    'sort_key': 'A',\n",
    "}\n",
    "\n",
    "# Usuwanie rekordu z tabeli\n",
    "response = table.delete_item(Key=key)\n",
    "\n",
    "# Wyświetlanie informacji o odpowiedzi\n",
    "print(json.dumps(response, indent=2))"
   ]
  },
  {
   "attachments": {},
   "cell_type": "markdown",
   "metadata": {},
   "source": [
    "TWORZENIE NOWEJ TABELI"
   ]
  },
  {
   "cell_type": "code",
   "execution_count": 115,
   "metadata": {},
   "outputs": [
    {
     "ename": "TypeError",
     "evalue": "Object of type datetime is not JSON serializable",
     "output_type": "error",
     "traceback": [
      "\u001b[1;31m---------------------------------------------------------------------------\u001b[0m",
      "\u001b[1;31mTypeError\u001b[0m                                 Traceback (most recent call last)",
      "Cell \u001b[1;32mIn[115], line 37\u001b[0m\n\u001b[0;32m     34\u001b[0m response \u001b[39m=\u001b[39m client\u001b[39m.\u001b[39mcreate_table(\u001b[39m*\u001b[39m\u001b[39m*\u001b[39mtable_schema)\n\u001b[0;32m     36\u001b[0m \u001b[39m# Wyświetlanie informacji o odpowiedzi\u001b[39;00m\n\u001b[1;32m---> 37\u001b[0m print_json(response)\n",
      "Cell \u001b[1;32mIn[92], line 2\u001b[0m, in \u001b[0;36mprint_json\u001b[1;34m(text)\u001b[0m\n\u001b[0;32m      1\u001b[0m \u001b[39mdef\u001b[39;00m \u001b[39mprint_json\u001b[39m(text: \u001b[39mstr\u001b[39m) \u001b[39m-\u001b[39m\u001b[39m>\u001b[39m \u001b[39mNone\u001b[39;00m:\n\u001b[1;32m----> 2\u001b[0m     \u001b[39mprint\u001b[39m(json\u001b[39m.\u001b[39;49mdumps(text, indent\u001b[39m=\u001b[39;49m\u001b[39m2\u001b[39;49m))\n",
      "File \u001b[1;32m~\\AppData\\Local\\Programs\\Python\\Python311\\Lib\\json\\__init__.py:238\u001b[0m, in \u001b[0;36mdumps\u001b[1;34m(obj, skipkeys, ensure_ascii, check_circular, allow_nan, cls, indent, separators, default, sort_keys, **kw)\u001b[0m\n\u001b[0;32m    232\u001b[0m \u001b[39mif\u001b[39;00m \u001b[39mcls\u001b[39m \u001b[39mis\u001b[39;00m \u001b[39mNone\u001b[39;00m:\n\u001b[0;32m    233\u001b[0m     \u001b[39mcls\u001b[39m \u001b[39m=\u001b[39m JSONEncoder\n\u001b[0;32m    234\u001b[0m \u001b[39mreturn\u001b[39;00m \u001b[39mcls\u001b[39;49m(\n\u001b[0;32m    235\u001b[0m     skipkeys\u001b[39m=\u001b[39;49mskipkeys, ensure_ascii\u001b[39m=\u001b[39;49mensure_ascii,\n\u001b[0;32m    236\u001b[0m     check_circular\u001b[39m=\u001b[39;49mcheck_circular, allow_nan\u001b[39m=\u001b[39;49mallow_nan, indent\u001b[39m=\u001b[39;49mindent,\n\u001b[0;32m    237\u001b[0m     separators\u001b[39m=\u001b[39;49mseparators, default\u001b[39m=\u001b[39;49mdefault, sort_keys\u001b[39m=\u001b[39;49msort_keys,\n\u001b[1;32m--> 238\u001b[0m     \u001b[39m*\u001b[39;49m\u001b[39m*\u001b[39;49mkw)\u001b[39m.\u001b[39;49mencode(obj)\n",
      "File \u001b[1;32m~\\AppData\\Local\\Programs\\Python\\Python311\\Lib\\json\\encoder.py:202\u001b[0m, in \u001b[0;36mJSONEncoder.encode\u001b[1;34m(self, o)\u001b[0m\n\u001b[0;32m    200\u001b[0m chunks \u001b[39m=\u001b[39m \u001b[39mself\u001b[39m\u001b[39m.\u001b[39miterencode(o, _one_shot\u001b[39m=\u001b[39m\u001b[39mTrue\u001b[39;00m)\n\u001b[0;32m    201\u001b[0m \u001b[39mif\u001b[39;00m \u001b[39mnot\u001b[39;00m \u001b[39misinstance\u001b[39m(chunks, (\u001b[39mlist\u001b[39m, \u001b[39mtuple\u001b[39m)):\n\u001b[1;32m--> 202\u001b[0m     chunks \u001b[39m=\u001b[39m \u001b[39mlist\u001b[39m(chunks)\n\u001b[0;32m    203\u001b[0m \u001b[39mreturn\u001b[39;00m \u001b[39m'\u001b[39m\u001b[39m'\u001b[39m\u001b[39m.\u001b[39mjoin(chunks)\n",
      "File \u001b[1;32m~\\AppData\\Local\\Programs\\Python\\Python311\\Lib\\json\\encoder.py:432\u001b[0m, in \u001b[0;36m_make_iterencode.<locals>._iterencode\u001b[1;34m(o, _current_indent_level)\u001b[0m\n\u001b[0;32m    430\u001b[0m     \u001b[39myield from\u001b[39;00m _iterencode_list(o, _current_indent_level)\n\u001b[0;32m    431\u001b[0m \u001b[39melif\u001b[39;00m \u001b[39misinstance\u001b[39m(o, \u001b[39mdict\u001b[39m):\n\u001b[1;32m--> 432\u001b[0m     \u001b[39myield from\u001b[39;00m _iterencode_dict(o, _current_indent_level)\n\u001b[0;32m    433\u001b[0m \u001b[39melse\u001b[39;00m:\n\u001b[0;32m    434\u001b[0m     \u001b[39mif\u001b[39;00m markers \u001b[39mis\u001b[39;00m \u001b[39mnot\u001b[39;00m \u001b[39mNone\u001b[39;00m:\n",
      "File \u001b[1;32m~\\AppData\\Local\\Programs\\Python\\Python311\\Lib\\json\\encoder.py:406\u001b[0m, in \u001b[0;36m_make_iterencode.<locals>._iterencode_dict\u001b[1;34m(dct, _current_indent_level)\u001b[0m\n\u001b[0;32m    404\u001b[0m         \u001b[39melse\u001b[39;00m:\n\u001b[0;32m    405\u001b[0m             chunks \u001b[39m=\u001b[39m _iterencode(value, _current_indent_level)\n\u001b[1;32m--> 406\u001b[0m         \u001b[39myield from\u001b[39;00m chunks\n\u001b[0;32m    407\u001b[0m \u001b[39mif\u001b[39;00m newline_indent \u001b[39mis\u001b[39;00m \u001b[39mnot\u001b[39;00m \u001b[39mNone\u001b[39;00m:\n\u001b[0;32m    408\u001b[0m     _current_indent_level \u001b[39m-\u001b[39m\u001b[39m=\u001b[39m \u001b[39m1\u001b[39m\n",
      "File \u001b[1;32m~\\AppData\\Local\\Programs\\Python\\Python311\\Lib\\json\\encoder.py:406\u001b[0m, in \u001b[0;36m_make_iterencode.<locals>._iterencode_dict\u001b[1;34m(dct, _current_indent_level)\u001b[0m\n\u001b[0;32m    404\u001b[0m         \u001b[39melse\u001b[39;00m:\n\u001b[0;32m    405\u001b[0m             chunks \u001b[39m=\u001b[39m _iterencode(value, _current_indent_level)\n\u001b[1;32m--> 406\u001b[0m         \u001b[39myield from\u001b[39;00m chunks\n\u001b[0;32m    407\u001b[0m \u001b[39mif\u001b[39;00m newline_indent \u001b[39mis\u001b[39;00m \u001b[39mnot\u001b[39;00m \u001b[39mNone\u001b[39;00m:\n\u001b[0;32m    408\u001b[0m     _current_indent_level \u001b[39m-\u001b[39m\u001b[39m=\u001b[39m \u001b[39m1\u001b[39m\n",
      "File \u001b[1;32m~\\AppData\\Local\\Programs\\Python\\Python311\\Lib\\json\\encoder.py:439\u001b[0m, in \u001b[0;36m_make_iterencode.<locals>._iterencode\u001b[1;34m(o, _current_indent_level)\u001b[0m\n\u001b[0;32m    437\u001b[0m         \u001b[39mraise\u001b[39;00m \u001b[39mValueError\u001b[39;00m(\u001b[39m\"\u001b[39m\u001b[39mCircular reference detected\u001b[39m\u001b[39m\"\u001b[39m)\n\u001b[0;32m    438\u001b[0m     markers[markerid] \u001b[39m=\u001b[39m o\n\u001b[1;32m--> 439\u001b[0m o \u001b[39m=\u001b[39m _default(o)\n\u001b[0;32m    440\u001b[0m \u001b[39myield from\u001b[39;00m _iterencode(o, _current_indent_level)\n\u001b[0;32m    441\u001b[0m \u001b[39mif\u001b[39;00m markers \u001b[39mis\u001b[39;00m \u001b[39mnot\u001b[39;00m \u001b[39mNone\u001b[39;00m:\n",
      "File \u001b[1;32m~\\AppData\\Local\\Programs\\Python\\Python311\\Lib\\json\\encoder.py:180\u001b[0m, in \u001b[0;36mJSONEncoder.default\u001b[1;34m(self, o)\u001b[0m\n\u001b[0;32m    161\u001b[0m \u001b[39mdef\u001b[39;00m \u001b[39mdefault\u001b[39m(\u001b[39mself\u001b[39m, o):\n\u001b[0;32m    162\u001b[0m \u001b[39m    \u001b[39m\u001b[39m\"\"\"Implement this method in a subclass such that it returns\u001b[39;00m\n\u001b[0;32m    163\u001b[0m \u001b[39m    a serializable object for ``o``, or calls the base implementation\u001b[39;00m\n\u001b[0;32m    164\u001b[0m \u001b[39m    (to raise a ``TypeError``).\u001b[39;00m\n\u001b[1;32m   (...)\u001b[0m\n\u001b[0;32m    178\u001b[0m \n\u001b[0;32m    179\u001b[0m \u001b[39m    \"\"\"\u001b[39;00m\n\u001b[1;32m--> 180\u001b[0m     \u001b[39mraise\u001b[39;00m \u001b[39mTypeError\u001b[39;00m(\u001b[39mf\u001b[39m\u001b[39m'\u001b[39m\u001b[39mObject of type \u001b[39m\u001b[39m{\u001b[39;00mo\u001b[39m.\u001b[39m\u001b[39m__class__\u001b[39m\u001b[39m.\u001b[39m\u001b[39m__name__\u001b[39m\u001b[39m}\u001b[39;00m\u001b[39m \u001b[39m\u001b[39m'\u001b[39m\n\u001b[0;32m    181\u001b[0m                     \u001b[39mf\u001b[39m\u001b[39m'\u001b[39m\u001b[39mis not JSON serializable\u001b[39m\u001b[39m'\u001b[39m)\n",
      "\u001b[1;31mTypeError\u001b[0m: Object of type datetime is not JSON serializable"
     ]
    }
   ],
   "source": [
    "# Definiowanie schematu tabeli\n",
    "table_schema = {\n",
    "    'TableName': 'ue_tabela_2',\n",
    "    'KeySchema': [\n",
    "        {\n",
    "            'AttributeName': 'partition_key',\n",
    "            'KeyType': 'HASH'  # Klucz partycji\n",
    "        },\n",
    "        {\n",
    "            'AttributeName': 'sort_key',\n",
    "            'KeyType': 'RANGE'  # Klucz sortujący\n",
    "        }\n",
    "    ],\n",
    "    'AttributeDefinitions': [\n",
    "        {\n",
    "            'AttributeName': 'partition_key',\n",
    "            'AttributeType': 'S'  # Typ atrybutu dla klucza partycji (np. 'S' dla string)\n",
    "        },\n",
    "        {\n",
    "            'AttributeName': 'sort_key',\n",
    "            'AttributeType': 'N'  # Typ atrybutu dla klucza sortującego (np. 'N' dla liczby)\n",
    "        }\n",
    "    ],\n",
    "    'ProvisionedThroughput': {\n",
    "        'ReadCapacityUnits': 5,  # Pojemność odczytu jednostek na sekundę\n",
    "        'WriteCapacityUnits': 5  # Pojemność zapisu jednostek na sekundę\n",
    "    }\n",
    "}\n",
    "\n",
    "# Utworzenie klienta\n",
    "client = session.client('dynamodb')\n",
    "\n",
    "# Tworzenie tabeli\n",
    "response = client.create_table(**table_schema)\n",
    "\n",
    "# Wyświetlanie informacji o odpowiedzi\n",
    "print(response)"
   ]
  }
 ],
 "metadata": {
  "kernelspec": {
   "display_name": "venv",
   "language": "python",
   "name": "python3"
  },
  "language_info": {
   "codemirror_mode": {
    "name": "ipython",
    "version": 3
   },
   "file_extension": ".py",
   "mimetype": "text/x-python",
   "name": "python",
   "nbconvert_exporter": "python",
   "pygments_lexer": "ipython3",
   "version": "3.11.0"
  },
  "orig_nbformat": 4
 },
 "nbformat": 4,
 "nbformat_minor": 2
}
